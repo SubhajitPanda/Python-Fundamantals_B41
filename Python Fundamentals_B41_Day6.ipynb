{
 "cells": [
  {
   "cell_type": "code",
   "execution_count": null,
   "metadata": {},
   "outputs": [],
   "source": [
    "Continuation with lists:"
   ]
  },
  {
   "cell_type": "code",
   "execution_count": 1,
   "metadata": {},
   "outputs": [],
   "source": [
    "students = ['ramesh','naveed','zaheer','priyanka','udit','imran','shafia']"
   ]
  },
  {
   "cell_type": "code",
   "execution_count": 2,
   "metadata": {},
   "outputs": [
    {
     "name": "stdout",
     "output_type": "stream",
     "text": [
      "['ramesh', 'naveed', 'zaheer', 'priyanka', 'udit', 'imran', 'shafia']\n"
     ]
    }
   ],
   "source": [
    "print(students)"
   ]
  },
  {
   "cell_type": "code",
   "execution_count": 3,
   "metadata": {},
   "outputs": [
    {
     "data": {
      "text/plain": [
       "list"
      ]
     },
     "execution_count": 3,
     "metadata": {},
     "output_type": "execute_result"
    }
   ],
   "source": [
    "type(students)"
   ]
  },
  {
   "cell_type": "code",
   "execution_count": null,
   "metadata": {},
   "outputs": [],
   "source": [
    "# req: i want to appreciate the above students for joining in the session regularly on time."
   ]
  },
  {
   "cell_type": "code",
   "execution_count": 4,
   "metadata": {},
   "outputs": [
    {
     "name": "stdout",
     "output_type": "stream",
     "text": [
      "keep up the good work,ramesh\n"
     ]
    }
   ],
   "source": [
    "print(f\"keep up the good work,{students[0]}\")"
   ]
  },
  {
   "cell_type": "code",
   "execution_count": 5,
   "metadata": {},
   "outputs": [
    {
     "name": "stdout",
     "output_type": "stream",
     "text": [
      "keep up the good work,naveed\n"
     ]
    }
   ],
   "source": [
    "print(f\"keep up the good work,{students[1]}\")"
   ]
  },
  {
   "cell_type": "code",
   "execution_count": null,
   "metadata": {},
   "outputs": [],
   "source": [
    "Introduction to for loops in python:"
   ]
  },
  {
   "cell_type": "code",
   "execution_count": null,
   "metadata": {},
   "outputs": [],
   "source": [
    "# general syntax of a for loop:\n",
    "\n",
    "for tempvar in mainvar:\n",
    "    print(tempvar)     #indentation (the gap space between for and print)"
   ]
  },
  {
   "cell_type": "code",
   "execution_count": 6,
   "metadata": {},
   "outputs": [
    {
     "name": "stdout",
     "output_type": "stream",
     "text": [
      "keep up the good work,Ramesh\n",
      "keep up the good work,Naveed\n",
      "keep up the good work,Zaheer\n",
      "keep up the good work,Priyanka\n",
      "keep up the good work,Udit\n",
      "keep up the good work,Imran\n",
      "keep up the good work,Shafia\n"
     ]
    }
   ],
   "source": [
    "for x in students:\n",
    "    print(f\"keep up the good work,{x.title()}\")\n"
   ]
  },
  {
   "cell_type": "code",
   "execution_count": 8,
   "metadata": {},
   "outputs": [
    {
     "name": "stdout",
     "output_type": "stream",
     "text": [
      "keep up the good work,Ramesh\n",
      "keep up the good work,Naveed\n",
      "keep up the good work,Zaheer\n",
      "keep up the good work,Priyanka\n",
      "keep up the good work,Udit\n",
      "keep up the good work,Imran\n",
      "keep up the good work,Shafia\n"
     ]
    }
   ],
   "source": [
    "for test in students:\n",
    "    print(f\"keep up the good work,{test.title()}\")"
   ]
  },
  {
   "cell_type": "code",
   "execution_count": null,
   "metadata": {},
   "outputs": [],
   "source": [
    "#enhancement of the code....\n",
    "# req: i want to tell them that i will be looking forward of todays practice file as well."
   ]
  },
  {
   "cell_type": "code",
   "execution_count": 9,
   "metadata": {},
   "outputs": [
    {
     "name": "stdout",
     "output_type": "stream",
     "text": [
      "keep up the good work,Ramesh\n",
      "i will be looking into receive your practice files,Ramesh\n",
      "keep up the good work,Naveed\n",
      "i will be looking into receive your practice files,Naveed\n",
      "keep up the good work,Zaheer\n",
      "i will be looking into receive your practice files,Zaheer\n",
      "keep up the good work,Priyanka\n",
      "i will be looking into receive your practice files,Priyanka\n",
      "keep up the good work,Udit\n",
      "i will be looking into receive your practice files,Udit\n",
      "keep up the good work,Imran\n",
      "i will be looking into receive your practice files,Imran\n",
      "keep up the good work,Shafia\n",
      "i will be looking into receive your practice files,Shafia\n"
     ]
    }
   ],
   "source": [
    "for test in students:\n",
    "    print(f\"keep up the good work,{test.title()}\")\n",
    "    print(f\"i will be looking into receive your practice files,{test.title()}\")"
   ]
  },
  {
   "cell_type": "code",
   "execution_count": null,
   "metadata": {},
   "outputs": [],
   "source": [
    "# Improvising the code..."
   ]
  },
  {
   "cell_type": "code",
   "execution_count": 10,
   "metadata": {},
   "outputs": [
    {
     "name": "stdout",
     "output_type": "stream",
     "text": [
      "keep up the good work,Ramesh\n",
      "i will be looking into receive your practice files,Ramesh.\n",
      "\n",
      "keep up the good work,Naveed\n",
      "i will be looking into receive your practice files,Naveed.\n",
      "\n",
      "keep up the good work,Zaheer\n",
      "i will be looking into receive your practice files,Zaheer.\n",
      "\n",
      "keep up the good work,Priyanka\n",
      "i will be looking into receive your practice files,Priyanka.\n",
      "\n",
      "keep up the good work,Udit\n",
      "i will be looking into receive your practice files,Udit.\n",
      "\n",
      "keep up the good work,Imran\n",
      "i will be looking into receive your practice files,Imran.\n",
      "\n",
      "keep up the good work,Shafia\n",
      "i will be looking into receive your practice files,Shafia.\n",
      "\n"
     ]
    }
   ],
   "source": [
    "for test in students:\n",
    "    print(f\"keep up the good work,{test.title()}\")\n",
    "    print(f\"i will be looking into receive your practice files,{test.title()}.\\n\")   # writting in the loop"
   ]
  },
  {
   "cell_type": "code",
   "execution_count": 12,
   "metadata": {},
   "outputs": [
    {
     "name": "stdout",
     "output_type": "stream",
     "text": [
      "keep up the good work,Ramesh\n",
      "i will be looking into receive your practice files,Ramesh.\n",
      "\n",
      "keep up the good work,Naveed\n",
      "i will be looking into receive your practice files,Naveed.\n",
      "\n",
      "keep up the good work,Zaheer\n",
      "i will be looking into receive your practice files,Zaheer.\n",
      "\n",
      "keep up the good work,Priyanka\n",
      "i will be looking into receive your practice files,Priyanka.\n",
      "\n",
      "keep up the good work,Udit\n",
      "i will be looking into receive your practice files,Udit.\n",
      "\n",
      "keep up the good work,Imran\n",
      "i will be looking into receive your practice files,Imran.\n",
      "\n",
      "keep up the good work,Shafia\n",
      "i will be looking into receive your practice files,Shafia.\n",
      "\n",
      "Thank you all for joining in the python session\n"
     ]
    }
   ],
   "source": [
    "for test in students:\n",
    "    print(f\"keep up the good work,{test.title()}\")\n",
    "    print(f\"i will be looking into receive your practice files,{test.title()}.\\n\")\n",
    "\n",
    "print(\"Thank you all for joining in the python session\")        # writting out the loop"
   ]
  },
  {
   "cell_type": "code",
   "execution_count": null,
   "metadata": {},
   "outputs": [],
   "source": [
    "Implimentation of range function:\n",
    "    \n",
    "# general syntax of a rnge function:\n",
    "\n",
    "range(startvlue,stopvalue,stepcount)"
   ]
  },
  {
   "cell_type": "code",
   "execution_count": null,
   "metadata": {},
   "outputs": [],
   "source": [
    "# req: i want print the numbers till 20."
   ]
  },
  {
   "cell_type": "code",
   "execution_count": 13,
   "metadata": {},
   "outputs": [],
   "source": [
    "numbers = list(range(0,20))   # last value is always exclusive."
   ]
  },
  {
   "cell_type": "code",
   "execution_count": 14,
   "metadata": {},
   "outputs": [
    {
     "name": "stdout",
     "output_type": "stream",
     "text": [
      "[0, 1, 2, 3, 4, 5, 6, 7, 8, 9, 10, 11, 12, 13, 14, 15, 16, 17, 18, 19]\n"
     ]
    }
   ],
   "source": [
    "print(numbers)"
   ]
  },
  {
   "cell_type": "code",
   "execution_count": null,
   "metadata": {},
   "outputs": [],
   "source": [
    "# req: i want to print even numbers till 30 by using a list ?"
   ]
  },
  {
   "cell_type": "code",
   "execution_count": 15,
   "metadata": {},
   "outputs": [
    {
     "name": "stdout",
     "output_type": "stream",
     "text": [
      "[2, 4, 6, 8, 10, 12, 14, 16, 18, 20, 22, 24, 26, 28]\n"
     ]
    }
   ],
   "source": [
    "even_numbers = list(range(2,30,2))\n",
    "print(even_numbers)"
   ]
  },
  {
   "cell_type": "code",
   "execution_count": null,
   "metadata": {},
   "outputs": [],
   "source": [
    "# req: i want to print 5 multiple numbers till 100 by using a list ?"
   ]
  },
  {
   "cell_type": "code",
   "execution_count": 16,
   "metadata": {},
   "outputs": [
    {
     "name": "stdout",
     "output_type": "stream",
     "text": [
      "[5, 10, 15, 20, 25, 30, 35, 40, 45, 50, 55, 60, 65, 70, 75, 80, 85, 90, 95]\n"
     ]
    }
   ],
   "source": [
    "multiple_numbers = list(range(5,100,5))\n",
    "print(multiple_numbers)"
   ]
  },
  {
   "cell_type": "code",
   "execution_count": null,
   "metadata": {},
   "outputs": [],
   "source": []
  }
 ],
 "metadata": {
  "kernelspec": {
   "display_name": "Python 3",
   "language": "python",
   "name": "python3"
  },
  "language_info": {
   "codemirror_mode": {
    "name": "ipython",
    "version": 3
   },
   "file_extension": ".py",
   "mimetype": "text/x-python",
   "name": "python",
   "nbconvert_exporter": "python",
   "pygments_lexer": "ipython3",
   "version": "3.8.5"
  }
 },
 "nbformat": 4,
 "nbformat_minor": 4
}
